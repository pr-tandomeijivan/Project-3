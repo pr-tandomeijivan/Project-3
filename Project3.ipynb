{
 "cells": [
  {
   "cell_type": "markdown",
   "metadata": {},
   "source": [
    "# Project 3"
   ]
  },
  {
   "cell_type": "markdown",
   "metadata": {},
   "source": [
    "## (Task 0: Loading and preparing sample data)"
   ]
  },
  {
   "cell_type": "code",
   "execution_count": null,
   "metadata": {},
   "outputs": [],
   "source": []
  },
  {
   "cell_type": "markdown",
   "metadata": {},
   "source": [
    "## Task 1: Preprocess data to format according spec"
   ]
  },
  {
   "cell_type": "code",
   "execution_count": null,
   "metadata": {},
   "outputs": [],
   "source": [
    "import numpy as np\n",
    "import matplotlib.pyplot as plt\n",
    "\n",
    "example_path = 'enrollment/001-g-01.txt'\n",
    "\n",
    "def preprocess_data(path):\n",
    "    data = []\n",
    "    with open(path, \"r\") as lines:\n",
    "        for line in lines:\n",
    "            data.append(line.split())\n",
    "    \n",
    "    data_for_dtw = []\n",
    "    vx = 0\n",
    "    vy = 0\n",
    "    x = 0\n",
    "    y = 0 \n",
    "    time = 0\n",
    "    for signature_data in data:\n",
    "        new_time = float(signature_data[0])\n",
    "        new_x = float(signature_data[1])\n",
    "        new_y = float(signature_data[2])\n",
    "        pressure = float(signature_data[3])\n",
    "        penup = float(signature_data[4])\n",
    "        if penup == 1:\n",
    "            vx = 0\n",
    "            vy = 0\n",
    "            data_for_dtw.append([new_x, new_y, vx, vy, pressure])\n",
    "            x = new_x\n",
    "            y = new_y\n",
    "            time = new_time\n",
    "        else:\n",
    "            vx = float((new_x - x)/(new_time - time))\n",
    "            vy = float((new_y - y)/(new_time - time))\n",
    "            data_for_dtw.append([new_x, new_y, vx, vy, pressure])\n",
    "            x = new_x\n",
    "            y = new_y\n",
    "            time = new_time       \n",
    "            \n",
    "    return data_for_dtw        "
   ]
  },
  {
   "cell_type": "markdown",
   "metadata": {},
   "source": [
    "## Task 2: Dynamic Time Warping for Signatures"
   ]
  },
  {
   "cell_type": "code",
   "execution_count": null,
   "metadata": {},
   "outputs": [],
   "source": []
  },
  {
   "cell_type": "markdown",
   "metadata": {},
   "source": [
    "## Task 3: Apply and train"
   ]
  },
  {
   "cell_type": "code",
   "execution_count": null,
   "metadata": {},
   "outputs": [],
   "source": []
  },
  {
   "cell_type": "markdown",
   "metadata": {},
   "source": [
    "## Task 4: Combine everything and run"
   ]
  },
  {
   "cell_type": "code",
   "execution_count": null,
   "metadata": {},
   "outputs": [],
   "source": []
  }
 ],
 "metadata": {
  "kernelspec": {
   "display_name": "Python 3",
   "language": "python",
   "name": "python3"
  },
  "language_info": {
   "codemirror_mode": {
    "name": "ipython",
    "version": 3
   },
   "file_extension": ".py",
   "mimetype": "text/x-python",
   "name": "python",
   "nbconvert_exporter": "python",
   "pygments_lexer": "ipython3",
   "version": "3.7.1"
  }
 },
 "nbformat": 4,
 "nbformat_minor": 2
}
