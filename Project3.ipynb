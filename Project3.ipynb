{
 "cells": [
  {
   "cell_type": "markdown",
   "metadata": {},
   "source": [
    "# Project 3\n",
    "## Signature Verification"
   ]
  },
  {
   "cell_type": "markdown",
   "metadata": {},
   "source": [
    "## Task 1: Preprocess data to format according spec"
   ]
  },
  {
   "cell_type": "code",
   "execution_count": 1,
   "metadata": {},
   "outputs": [],
   "source": [
    "import numpy as np\n",
    "import matplotlib.pyplot as plt\n",
    "from sys import stdout\n",
    "\n",
    "# example_path = 'enrollment/001-g-01.txt'\n",
    "\n",
    "# Accept as input a number of one user as string, e.g '001'\n",
    "# Output format as [[userId, [[x1, y1, vx1, vy1, pressure1], [x2, y2, vx2, vy2, pressure2], [...], ...]]]\n",
    "# -> userId = '001-01' (user 001 genuine signature 01) -> one user has 5 genuine signature\n",
    "# To get the array with all the signature data for dtw -> output[i][1]\n",
    "def preprocess_enrollment(usernumber):\n",
    "    data = []\n",
    "    \n",
    "    for i in range(5):\n",
    "        path = 'enrollment/' + str(usernumber) + '-g-0' + str(i+1) + '.txt'\n",
    "        signature = []\n",
    "        with open(path, \"r\") as lines:\n",
    "            for line in lines:\n",
    "                signature.append(line.split())\n",
    "        data.append([str(usernumber) + '-g-0' + str(i+1), signature])\n",
    "        \n",
    "    processed_data = preprocess_data(data)\n",
    "    \n",
    "    return processed_data\n",
    "\n",
    "\n",
    "# Accept as input a number of one user as string, e.g '001'\n",
    "# Output format as [[userId, [[x1, y1, vx1, vy1, pressure1], [x2, y2, vx2, vy2, pressure2], [...], ...]]]\n",
    "# -> userId = '001-01' (user 001 signature 01 for verification) -> one user has 45 signature\n",
    "# To get the array with all the signature data for dtw -> output[i][1]\n",
    "def preprocess_verification(usernumber):\n",
    "    data = []\n",
    "    \n",
    "    for i in range(45):\n",
    "        if i+1 < 10:\n",
    "            userId = str(usernumber) + '-0' + str(i+1)\n",
    "        else:\n",
    "            userId = str(usernumber) + '-' + str(i+1)\n",
    "        signature = []    \n",
    "        path = 'verification/' + userId + '.txt'\n",
    "        with open(path, \"r\") as lines:\n",
    "            for line in lines:\n",
    "                signature.append(line.split())\n",
    "        data.append([userId, signature])\n",
    "        \n",
    "    processed_data = preprocess_data(data)\n",
    "    \n",
    "    return processed_data\n",
    "\n",
    "\n",
    "def preprocess_data(data):\n",
    "    data_for_dtw = []\n",
    "    \n",
    "    for user in data:\n",
    "        vx = 0\n",
    "        vy = 0\n",
    "        x = 0\n",
    "        y = 0 \n",
    "        time = 0\n",
    "        \n",
    "        input_data = []\n",
    "        for signature_data in user[1]:\n",
    "            new_time = float(signature_data[0])\n",
    "            new_x = float(signature_data[1])\n",
    "            new_y = float(signature_data[2])\n",
    "            pressure = float(signature_data[3])\n",
    "            penup = float(signature_data[4])\n",
    "            if penup == 1:\n",
    "                vx = 0\n",
    "                vy = 0\n",
    "                input_data.append([new_x, new_y, vx, vy, pressure])\n",
    "                x = new_x\n",
    "                y = new_y\n",
    "                time = new_time\n",
    "            else:\n",
    "                vx = float((new_x - x)/(new_time - time))\n",
    "                vy = float((new_y - y)/(new_time - time))\n",
    "                input_data.append([new_x, new_y, vx, vy, pressure])\n",
    "                x = new_x\n",
    "                y = new_y\n",
    "                time = new_time \n",
    "                \n",
    "        data_for_dtw.append([user[0], input_data])\n",
    "            \n",
    "    return data_for_dtw"
   ]
  },
  {
   "cell_type": "code",
   "execution_count": 2,
   "metadata": {},
   "outputs": [],
   "source": [
    "test_enrollment = preprocess_enrollment('001')"
   ]
  },
  {
   "cell_type": "code",
   "execution_count": 3,
   "metadata": {},
   "outputs": [],
   "source": [
    "test_verification = preprocess_verification('001')"
   ]
  },
  {
   "cell_type": "markdown",
   "metadata": {},
   "source": [
    "## Task 2: Dynamic Time Warping for Signatures\n",
    "Take two arrays in the format of [[x1, y1, vx1, vy1, pressure1], [x2, y2, vx2, vy2, pressure2], [...], ...] and compute the dtw distance"
   ]
  },
  {
   "cell_type": "code",
   "execution_count": 4,
   "metadata": {},
   "outputs": [],
   "source": [
    "from dtw import dtw\n",
    "import numpy as np\n",
    "\n",
    "euclidean = lambda img1, img2 : np.sqrt(np.sum((img1-img2)**2))\n",
    "\n",
    "def dynamic_time_warping(img1, img2):\n",
    "    img1 = np.asarray(img1)\n",
    "    img2 = np.asarray(img2)\n",
    "    dist, cost, acc_cost, path = dtw(img1, img2, dist=euclidean)\n",
    "    return dist"
   ]
  },
  {
   "cell_type": "code",
   "execution_count": 5,
   "metadata": {},
   "outputs": [
    {
     "data": {
      "text/plain": [
       "80.91870617782547"
      ]
     },
     "execution_count": 5,
     "metadata": {},
     "output_type": "execute_result"
    }
   ],
   "source": [
    "dynamic_time_warping(test_enrollment[0][1], test_verification[0][1])"
   ]
  },
  {
   "cell_type": "markdown",
   "metadata": {},
   "source": [
    "## Task 3: Apply and train \n",
    "Take all verification signatures of one user and compare (with dtw) against the 5 genuine signatures of that user. Return the user number, the signature id number (verification) and the smallest dtw distance (dissimilarity) of the 5 dtw results.\n",
    "\n",
    "Output for the competition:   \n",
    "Store results in a file as one line per user ->   \n",
    "user1, signature_ID11, dissimilarity11, signature_ID12, dissimilarity12, ...  \n",
    "user2, signature_ID21, dissimilarity21, signature_ID22, dissimilarity22, ...  \n",
    "e.g ->  \n",
    "051, 46, 6.40341144, 21, 7.62949846, 17, 9.18516724, 03, 10.47132116, […]  \n",
    "043, 02, 0.99152807, 22, 4.82357323, 14, 2.14435743, 42, 5.05044537, […]  \n",
    "[…]"
   ]
  },
  {
   "cell_type": "code",
   "execution_count": 14,
   "metadata": {},
   "outputs": [],
   "source": [
    "# results = e.g. [['001-01', dissimilarity1], ['001-02', dissimilarity2], ...]\n",
    "def signature_classifier(usernumber):\n",
    "    results = []\n",
    "    signatures_enrollment = preprocess_enrollment(usernumber)\n",
    "    signatures_verification = preprocess_verification(usernumber)\n",
    "    message = \"\"\n",
    "    for signature_v in signatures_verification:\n",
    "        stdout.write(\"\\r\")\n",
    "        last_message = message\n",
    "        message = \"Processing signature \" + signature_v[0] + \" (Size: \" + str(len(signature_v[1])) + \")\"\n",
    "        sys.stdout.write('{message: <{fill}}'.format(message=message, fill=str(len(string))))\n",
    "\n",
    "        stdout.flush()\n",
    "        distances = []\n",
    "        for signature_e in signatures_enrollment:\n",
    "            distance = dynamic_time_warping(signature_v[1], signature_e[1])\n",
    "            distances.append(distance)\n",
    "        distances.sort\n",
    "        results.append([signature_v[0],distances[0]])\n",
    "        \n",
    "#    with open('signature_classifier_results.txt', 'a+') as f:\n",
    "#        f.write(usernumber)\n",
    "#        for x in results:\n",
    "#            id = (x[0].split(\"-\"))[1]\n",
    "#            f.write(\", \" + str(id) + \", \" + str(x[1]))\n",
    "#        f.write(\"\\n\")   \n",
    "    \n",
    "    return results       "
   ]
  },
  {
   "cell_type": "markdown",
   "metadata": {},
   "source": [
    "## Task 4: Combine everything and run\n",
    "There are 30 users. Each user has 45 signatures for verification (validation data) and 5 genuine signatures for comparing (enrollment, ground-truth, train data).  \n",
    "\n",
    "Verify all 45 verification signatures of one user. Set the first 20 signatures with the smallest distance as true and the other 25 signatures as fake. Compare usernumber + id with the gt.txt to calculate the precision.\n",
    "Repeat for all 30 users and compute the average precision in the end."
   ]
  },
  {
   "cell_type": "code",
   "execution_count": 15,
   "metadata": {},
   "outputs": [],
   "source": [
    "user_path = 'users.txt'\n",
    "gt_path = 'gt.txt'\n",
    "def read_user(user_path):\n",
    "    users = []\n",
    "    with open(user_path, \"r\") as lines:\n",
    "        for line in lines:\n",
    "            users.append(line.replace('\\n', ''))\n",
    "    return users\n",
    "\n",
    "def read_gt(gt_path):\n",
    "    gts = {}\n",
    "    with open(gt_path, \"r\") as lines:\n",
    "        for line in lines:\n",
    "            gts[line.split()[0]] = line.split()[1]\n",
    "    return gts\n",
    "    "
   ]
  },
  {
   "cell_type": "code",
   "execution_count": 16,
   "metadata": {},
   "outputs": [],
   "source": [
    "def compare(results, gt):\n",
    "    results.sort(key= lambda x: x[1])\n",
    "    predicted_genuine = results[:20]\n",
    "    TP = 0\n",
    "    precision = 0\n",
    "    \n",
    "    for signature in predicted_genuine:\n",
    "        if gt[signature[0]] is 'g':\n",
    "            TP += 1\n",
    "    precision = TP/20\n",
    "    \n",
    "    return precision"
   ]
  },
  {
   "cell_type": "code",
   "execution_count": 17,
   "metadata": {},
   "outputs": [
    {
     "name": "stdout",
     "output_type": "stream",
     "text": [
      "Processing signature 002-03 (Size: 510)"
     ]
    },
    {
     "ename": "KeyboardInterrupt",
     "evalue": "",
     "output_type": "error",
     "traceback": [
      "\u001b[0;31m---------------------------------------------------------------------------\u001b[0m",
      "\u001b[0;31mKeyboardInterrupt\u001b[0m                         Traceback (most recent call last)",
      "\u001b[0;32m<ipython-input-17-30ed9f06dbe1>\u001b[0m in \u001b[0;36m<module>\u001b[0;34m\u001b[0m\n\u001b[1;32m      3\u001b[0m \u001b[0mtotal_precision\u001b[0m \u001b[0;34m=\u001b[0m \u001b[0;36m0\u001b[0m\u001b[0;34m\u001b[0m\u001b[0;34m\u001b[0m\u001b[0m\n\u001b[1;32m      4\u001b[0m \u001b[0;32mfor\u001b[0m \u001b[0musernumber\u001b[0m \u001b[0;32min\u001b[0m \u001b[0musernumbers\u001b[0m\u001b[0;34m:\u001b[0m\u001b[0;34m\u001b[0m\u001b[0;34m\u001b[0m\u001b[0m\n\u001b[0;32m----> 5\u001b[0;31m     \u001b[0mresults\u001b[0m \u001b[0;34m=\u001b[0m \u001b[0msignature_classifier\u001b[0m\u001b[0;34m(\u001b[0m\u001b[0musernumber\u001b[0m\u001b[0;34m)\u001b[0m\u001b[0;34m\u001b[0m\u001b[0;34m\u001b[0m\u001b[0m\n\u001b[0m\u001b[1;32m      6\u001b[0m     \u001b[0mprecision\u001b[0m \u001b[0;34m=\u001b[0m \u001b[0mcompare\u001b[0m\u001b[0;34m(\u001b[0m\u001b[0mresults\u001b[0m\u001b[0;34m,\u001b[0m \u001b[0mground_truths\u001b[0m\u001b[0;34m)\u001b[0m\u001b[0;34m\u001b[0m\u001b[0;34m\u001b[0m\u001b[0m\n\u001b[1;32m      7\u001b[0m     \u001b[0mtotal_precision\u001b[0m \u001b[0;34m+=\u001b[0m \u001b[0mprecision\u001b[0m\u001b[0;34m\u001b[0m\u001b[0;34m\u001b[0m\u001b[0m\n",
      "\u001b[0;32m<ipython-input-14-b2a4ac8a6f50>\u001b[0m in \u001b[0;36msignature_classifier\u001b[0;34m(usernumber)\u001b[0m\n\u001b[1;32m     10\u001b[0m         \u001b[0mdistances\u001b[0m \u001b[0;34m=\u001b[0m \u001b[0;34m[\u001b[0m\u001b[0;34m]\u001b[0m\u001b[0;34m\u001b[0m\u001b[0;34m\u001b[0m\u001b[0m\n\u001b[1;32m     11\u001b[0m         \u001b[0;32mfor\u001b[0m \u001b[0msignature_e\u001b[0m \u001b[0;32min\u001b[0m \u001b[0msignatures_enrollment\u001b[0m\u001b[0;34m:\u001b[0m\u001b[0;34m\u001b[0m\u001b[0;34m\u001b[0m\u001b[0m\n\u001b[0;32m---> 12\u001b[0;31m             \u001b[0mdistance\u001b[0m \u001b[0;34m=\u001b[0m \u001b[0mdynamic_time_warping\u001b[0m\u001b[0;34m(\u001b[0m\u001b[0msignature_v\u001b[0m\u001b[0;34m[\u001b[0m\u001b[0;36m1\u001b[0m\u001b[0;34m]\u001b[0m\u001b[0;34m,\u001b[0m \u001b[0msignature_e\u001b[0m\u001b[0;34m[\u001b[0m\u001b[0;36m1\u001b[0m\u001b[0;34m]\u001b[0m\u001b[0;34m)\u001b[0m\u001b[0;34m\u001b[0m\u001b[0;34m\u001b[0m\u001b[0m\n\u001b[0m\u001b[1;32m     13\u001b[0m             \u001b[0mdistances\u001b[0m\u001b[0;34m.\u001b[0m\u001b[0mappend\u001b[0m\u001b[0;34m(\u001b[0m\u001b[0mdistance\u001b[0m\u001b[0;34m)\u001b[0m\u001b[0;34m\u001b[0m\u001b[0;34m\u001b[0m\u001b[0m\n\u001b[1;32m     14\u001b[0m         \u001b[0mdistances\u001b[0m\u001b[0;34m.\u001b[0m\u001b[0msort\u001b[0m\u001b[0;34m\u001b[0m\u001b[0;34m\u001b[0m\u001b[0m\n",
      "\u001b[0;32m<ipython-input-4-c7e21c46d01b>\u001b[0m in \u001b[0;36mdynamic_time_warping\u001b[0;34m(img1, img2)\u001b[0m\n\u001b[1;32m      7\u001b[0m     \u001b[0mimg1\u001b[0m \u001b[0;34m=\u001b[0m \u001b[0mnp\u001b[0m\u001b[0;34m.\u001b[0m\u001b[0masarray\u001b[0m\u001b[0;34m(\u001b[0m\u001b[0mimg1\u001b[0m\u001b[0;34m)\u001b[0m\u001b[0;34m\u001b[0m\u001b[0;34m\u001b[0m\u001b[0m\n\u001b[1;32m      8\u001b[0m     \u001b[0mimg2\u001b[0m \u001b[0;34m=\u001b[0m \u001b[0mnp\u001b[0m\u001b[0;34m.\u001b[0m\u001b[0masarray\u001b[0m\u001b[0;34m(\u001b[0m\u001b[0mimg2\u001b[0m\u001b[0;34m)\u001b[0m\u001b[0;34m\u001b[0m\u001b[0;34m\u001b[0m\u001b[0m\n\u001b[0;32m----> 9\u001b[0;31m     \u001b[0mdist\u001b[0m\u001b[0;34m,\u001b[0m \u001b[0mcost\u001b[0m\u001b[0;34m,\u001b[0m \u001b[0macc_cost\u001b[0m\u001b[0;34m,\u001b[0m \u001b[0mpath\u001b[0m \u001b[0;34m=\u001b[0m \u001b[0mdtw\u001b[0m\u001b[0;34m(\u001b[0m\u001b[0mimg1\u001b[0m\u001b[0;34m,\u001b[0m \u001b[0mimg2\u001b[0m\u001b[0;34m,\u001b[0m \u001b[0mdist\u001b[0m\u001b[0;34m=\u001b[0m\u001b[0meuclidean\u001b[0m\u001b[0;34m)\u001b[0m\u001b[0;34m\u001b[0m\u001b[0;34m\u001b[0m\u001b[0m\n\u001b[0m\u001b[1;32m     10\u001b[0m     \u001b[0;32mreturn\u001b[0m \u001b[0mdist\u001b[0m\u001b[0;34m\u001b[0m\u001b[0;34m\u001b[0m\u001b[0m\n",
      "\u001b[0;32m~/Developer/Project-3/dtw.py\u001b[0m in \u001b[0;36mdtw\u001b[0;34m(x, y, dist, warp, w, s)\u001b[0m\n\u001b[1;32m     34\u001b[0m         \u001b[0;32mfor\u001b[0m \u001b[0mj\u001b[0m \u001b[0;32min\u001b[0m \u001b[0mrange\u001b[0m\u001b[0;34m(\u001b[0m\u001b[0mc\u001b[0m\u001b[0;34m)\u001b[0m\u001b[0;34m:\u001b[0m\u001b[0;34m\u001b[0m\u001b[0;34m\u001b[0m\u001b[0m\n\u001b[1;32m     35\u001b[0m             \u001b[0;32mif\u001b[0m \u001b[0;34m(\u001b[0m\u001b[0misinf\u001b[0m\u001b[0;34m(\u001b[0m\u001b[0mw\u001b[0m\u001b[0;34m)\u001b[0m \u001b[0;32mor\u001b[0m \u001b[0;34m(\u001b[0m\u001b[0mmax\u001b[0m\u001b[0;34m(\u001b[0m\u001b[0;36m0\u001b[0m\u001b[0;34m,\u001b[0m \u001b[0mi\u001b[0m \u001b[0;34m-\u001b[0m \u001b[0mw\u001b[0m\u001b[0;34m)\u001b[0m \u001b[0;34m<=\u001b[0m \u001b[0mj\u001b[0m \u001b[0;34m<=\u001b[0m \u001b[0mmin\u001b[0m\u001b[0;34m(\u001b[0m\u001b[0mc\u001b[0m\u001b[0;34m,\u001b[0m \u001b[0mi\u001b[0m \u001b[0;34m+\u001b[0m \u001b[0mw\u001b[0m\u001b[0;34m)\u001b[0m\u001b[0;34m)\u001b[0m\u001b[0;34m)\u001b[0m\u001b[0;34m:\u001b[0m\u001b[0;34m\u001b[0m\u001b[0;34m\u001b[0m\u001b[0m\n\u001b[0;32m---> 36\u001b[0;31m                 \u001b[0mD1\u001b[0m\u001b[0;34m[\u001b[0m\u001b[0mi\u001b[0m\u001b[0;34m,\u001b[0m \u001b[0mj\u001b[0m\u001b[0;34m]\u001b[0m \u001b[0;34m=\u001b[0m \u001b[0mdist\u001b[0m\u001b[0;34m(\u001b[0m\u001b[0mx\u001b[0m\u001b[0;34m[\u001b[0m\u001b[0mi\u001b[0m\u001b[0;34m]\u001b[0m\u001b[0;34m,\u001b[0m \u001b[0my\u001b[0m\u001b[0;34m[\u001b[0m\u001b[0mj\u001b[0m\u001b[0;34m]\u001b[0m\u001b[0;34m)\u001b[0m\u001b[0;34m\u001b[0m\u001b[0;34m\u001b[0m\u001b[0m\n\u001b[0m\u001b[1;32m     37\u001b[0m     \u001b[0mC\u001b[0m \u001b[0;34m=\u001b[0m \u001b[0mD1\u001b[0m\u001b[0;34m.\u001b[0m\u001b[0mcopy\u001b[0m\u001b[0;34m(\u001b[0m\u001b[0;34m)\u001b[0m\u001b[0;34m\u001b[0m\u001b[0;34m\u001b[0m\u001b[0m\n\u001b[1;32m     38\u001b[0m     \u001b[0mjrange\u001b[0m \u001b[0;34m=\u001b[0m \u001b[0mrange\u001b[0m\u001b[0;34m(\u001b[0m\u001b[0mc\u001b[0m\u001b[0;34m)\u001b[0m\u001b[0;34m\u001b[0m\u001b[0;34m\u001b[0m\u001b[0m\n",
      "\u001b[0;32m<ipython-input-4-c7e21c46d01b>\u001b[0m in \u001b[0;36m<lambda>\u001b[0;34m(img1, img2)\u001b[0m\n\u001b[1;32m      2\u001b[0m \u001b[0;32mimport\u001b[0m \u001b[0mnumpy\u001b[0m \u001b[0;32mas\u001b[0m \u001b[0mnp\u001b[0m\u001b[0;34m\u001b[0m\u001b[0;34m\u001b[0m\u001b[0m\n\u001b[1;32m      3\u001b[0m \u001b[0;34m\u001b[0m\u001b[0m\n\u001b[0;32m----> 4\u001b[0;31m \u001b[0meuclidean\u001b[0m \u001b[0;34m=\u001b[0m \u001b[0;32mlambda\u001b[0m \u001b[0mimg1\u001b[0m\u001b[0;34m,\u001b[0m \u001b[0mimg2\u001b[0m \u001b[0;34m:\u001b[0m \u001b[0mnp\u001b[0m\u001b[0;34m.\u001b[0m\u001b[0msqrt\u001b[0m\u001b[0;34m(\u001b[0m\u001b[0mnp\u001b[0m\u001b[0;34m.\u001b[0m\u001b[0msum\u001b[0m\u001b[0;34m(\u001b[0m\u001b[0;34m(\u001b[0m\u001b[0mimg1\u001b[0m\u001b[0;34m-\u001b[0m\u001b[0mimg2\u001b[0m\u001b[0;34m)\u001b[0m\u001b[0;34m**\u001b[0m\u001b[0;36m2\u001b[0m\u001b[0;34m)\u001b[0m\u001b[0;34m)\u001b[0m\u001b[0;34m\u001b[0m\u001b[0;34m\u001b[0m\u001b[0m\n\u001b[0m\u001b[1;32m      5\u001b[0m \u001b[0;34m\u001b[0m\u001b[0m\n\u001b[1;32m      6\u001b[0m \u001b[0;32mdef\u001b[0m \u001b[0mdynamic_time_warping\u001b[0m\u001b[0;34m(\u001b[0m\u001b[0mimg1\u001b[0m\u001b[0;34m,\u001b[0m \u001b[0mimg2\u001b[0m\u001b[0;34m)\u001b[0m\u001b[0;34m:\u001b[0m\u001b[0;34m\u001b[0m\u001b[0;34m\u001b[0m\u001b[0m\n",
      "\u001b[0;31mKeyboardInterrupt\u001b[0m: "
     ]
    }
   ],
   "source": [
    "usernumbers = read_user(user_path)\n",
    "ground_truths = read_gt(gt_path)\n",
    "total_precision = 0\n",
    "for usernumber in usernumbers:\n",
    "    results = signature_classifier(usernumber)\n",
    "    precision = compare(results, ground_truths)\n",
    "    total_precision += precision\n",
    "    \n",
    "average_precision = total_precision/len(usernumbers)\n",
    "    \n",
    "print('Mean average-precision: ' + str(average_precision))"
   ]
  },
  {
   "cell_type": "code",
   "execution_count": null,
   "metadata": {},
   "outputs": [],
   "source": []
  }
 ],
 "metadata": {
  "kernelspec": {
   "display_name": "Python 3",
   "language": "python",
   "name": "python3"
  },
  "language_info": {
   "codemirror_mode": {
    "name": "ipython",
    "version": 3
   },
   "file_extension": ".py",
   "mimetype": "text/x-python",
   "name": "python",
   "nbconvert_exporter": "python",
   "pygments_lexer": "ipython3",
   "version": "3.7.3"
  }
 },
 "nbformat": 4,
 "nbformat_minor": 2
}
